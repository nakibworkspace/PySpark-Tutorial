{
  "nbformat": 4,
  "nbformat_minor": 0,
  "metadata": {
    "colab": {
      "provenance": []
    },
    "kernelspec": {
      "name": "python3",
      "display_name": "Python 3"
    },
    "language_info": {
      "name": "python"
    }
  },
  "cells": [
    {
      "cell_type": "markdown",
      "source": [
        "**Example of PySpark ML**"
      ],
      "metadata": {
        "id": "3EP23FhjeuZE"
      }
    },
    {
      "cell_type": "code",
      "execution_count": null,
      "metadata": {
        "id": "31xdyUpnefkO"
      },
      "outputs": [],
      "source": [
        "from pyspark.sql import SparkSession\n",
        "spark= SparkSession.builder.appName('Missing').getOrCreate()"
      ]
    },
    {
      "cell_type": "code",
      "source": [
        "training= spark.read.csv('/content/sheetforspark - Sheet1.csv',header=True, inferSchema=True)"
      ],
      "metadata": {
        "id": "7W3uEqOye9cg"
      },
      "execution_count": null,
      "outputs": []
    },
    {
      "cell_type": "code",
      "source": [
        "training.show()"
      ],
      "metadata": {
        "colab": {
          "base_uri": "https://localhost:8080/"
        },
        "id": "6nEUGE8MfRfW",
        "outputId": "f881fbbb-5795-470a-a950-c9171bd4c338"
      },
      "execution_count": null,
      "outputs": [
        {
          "output_type": "stream",
          "name": "stdout",
          "text": [
            "+------+---+-----------+------+\n",
            "|  name|age|experience |salary|\n",
            "+------+---+-----------+------+\n",
            "| nakib| 31|         10| 30000|\n",
            "| sunny| 30|          8| 25000|\n",
            "|  paul| 39|          4| 20000|\n",
            "|raihan| 24|          3| 15000|\n",
            "| tamim| 23|          1| 20000|\n",
            "|  naim| 42|          2| 18000|\n",
            "+------+---+-----------+------+\n",
            "\n"
          ]
        }
      ]
    },
    {
      "cell_type": "code",
      "source": [
        "training.printSchema()"
      ],
      "metadata": {
        "colab": {
          "base_uri": "https://localhost:8080/"
        },
        "id": "hOLv2XJsfcyG",
        "outputId": "e28c0e52-8331-48ba-ee55-955c3e5d5dd3"
      },
      "execution_count": null,
      "outputs": [
        {
          "output_type": "stream",
          "name": "stdout",
          "text": [
            "root\n",
            " |-- name: string (nullable = true)\n",
            " |-- age: integer (nullable = true)\n",
            " |-- experience : integer (nullable = true)\n",
            " |-- salary: integer (nullable = true)\n",
            "\n"
          ]
        }
      ]
    },
    {
      "cell_type": "code",
      "source": [
        "training.columns"
      ],
      "metadata": {
        "colab": {
          "base_uri": "https://localhost:8080/"
        },
        "id": "1CsAA-k3flbq",
        "outputId": "e0b65058-3671-4600-f8ee-a4973a73e92a"
      },
      "execution_count": null,
      "outputs": [
        {
          "output_type": "execute_result",
          "data": {
            "text/plain": [
              "['name', 'age', 'experience ', 'salary']"
            ]
          },
          "metadata": {},
          "execution_count": 7
        }
      ]
    },
    {
      "cell_type": "markdown",
      "source": [
        "Create a way where we can group the independent features, known as VectorAssembler. \\\n",
        "['age','experience'] --> new feature --> independent feature."
      ],
      "metadata": {
        "id": "jYAAS5nnf-5G"
      }
    },
    {
      "cell_type": "code",
      "source": [
        "from pyspark.ml.feature import VectorAssembler\n",
        "featureassembler= VectorAssembler(inputCols=['age','experience '], outputCol=\"Independent Features\")"
      ],
      "metadata": {
        "id": "qpqmhoUZfpJy"
      },
      "execution_count": null,
      "outputs": []
    },
    {
      "cell_type": "code",
      "source": [
        "output=featureassembler.transform(training)"
      ],
      "metadata": {
        "id": "U232hT5sg9Jh"
      },
      "execution_count": null,
      "outputs": []
    },
    {
      "cell_type": "code",
      "source": [
        "output.show()"
      ],
      "metadata": {
        "colab": {
          "base_uri": "https://localhost:8080/"
        },
        "id": "GxOH8kWAhEP3",
        "outputId": "f989cc5f-8a99-4c36-f7af-f40c8e434e2e"
      },
      "execution_count": null,
      "outputs": [
        {
          "output_type": "stream",
          "name": "stdout",
          "text": [
            "+------+---+-----------+------+--------------------+\n",
            "|  name|age|experience |salary|Independent Features|\n",
            "+------+---+-----------+------+--------------------+\n",
            "| nakib| 31|         10| 30000|         [31.0,10.0]|\n",
            "| sunny| 30|          8| 25000|          [30.0,8.0]|\n",
            "|  paul| 39|          4| 20000|          [39.0,4.0]|\n",
            "|raihan| 24|          3| 15000|          [24.0,3.0]|\n",
            "| tamim| 23|          1| 20000|          [23.0,1.0]|\n",
            "|  naim| 42|          2| 18000|          [42.0,2.0]|\n",
            "+------+---+-----------+------+--------------------+\n",
            "\n"
          ]
        }
      ]
    },
    {
      "cell_type": "code",
      "source": [
        "output.columns"
      ],
      "metadata": {
        "colab": {
          "base_uri": "https://localhost:8080/"
        },
        "id": "yh5z7bCOhNR3",
        "outputId": "93b78338-1c07-4e0a-87c5-9b732e2b3525"
      },
      "execution_count": null,
      "outputs": [
        {
          "output_type": "execute_result",
          "data": {
            "text/plain": [
              "['name', 'age', 'experience ', 'salary', 'Independent Features']"
            ]
          },
          "metadata": {},
          "execution_count": 13
        }
      ]
    },
    {
      "cell_type": "code",
      "source": [
        "finalized_data= output.select(\"Independent Features\", \"salary\")"
      ],
      "metadata": {
        "id": "o8lNVObthZc0"
      },
      "execution_count": null,
      "outputs": []
    },
    {
      "cell_type": "code",
      "source": [
        "finalized_data.show()"
      ],
      "metadata": {
        "colab": {
          "base_uri": "https://localhost:8080/"
        },
        "id": "9ClenGIQhlxB",
        "outputId": "953031b1-3534-42f3-c819-038ef64741f0"
      },
      "execution_count": null,
      "outputs": [
        {
          "output_type": "stream",
          "name": "stdout",
          "text": [
            "+--------------------+------+\n",
            "|Independent Features|salary|\n",
            "+--------------------+------+\n",
            "|         [31.0,10.0]| 30000|\n",
            "|          [30.0,8.0]| 25000|\n",
            "|          [39.0,4.0]| 20000|\n",
            "|          [24.0,3.0]| 15000|\n",
            "|          [23.0,1.0]| 20000|\n",
            "|          [42.0,2.0]| 18000|\n",
            "+--------------------+------+\n",
            "\n"
          ]
        }
      ]
    },
    {
      "cell_type": "code",
      "source": [
        "from pyspark.ml.regression import LinearRegression\n",
        "train_data, test_data= finalized_data.randomSplit([0.75,0.25])\n",
        "regressor= LinearRegression(featuresCol=\"Independent Features\", labelCol=\"salary\")\n",
        "regressor= regressor.fit(train_data)"
      ],
      "metadata": {
        "id": "0iOfftsLhoFF"
      },
      "execution_count": null,
      "outputs": []
    },
    {
      "cell_type": "code",
      "source": [
        "#Coefficient\n",
        "regressor.coefficients"
      ],
      "metadata": {
        "colab": {
          "base_uri": "https://localhost:8080/"
        },
        "id": "zHb0tVVNiPIH",
        "outputId": "e2b40603-40a8-4634-ae64-61e70d669531"
      },
      "execution_count": null,
      "outputs": [
        {
          "output_type": "execute_result",
          "data": {
            "text/plain": [
              "DenseVector([-19.5763, 1345.1915])"
            ]
          },
          "metadata": {},
          "execution_count": 17
        }
      ]
    },
    {
      "cell_type": "code",
      "source": [
        "#Intercepts\n",
        "regressor.intercept"
      ],
      "metadata": {
        "colab": {
          "base_uri": "https://localhost:8080/"
        },
        "id": "OQ96AK-UiwBj",
        "outputId": "2b2f8b87-a925-456e-a4f0-e756f0c37692"
      },
      "execution_count": null,
      "outputs": [
        {
          "output_type": "execute_result",
          "data": {
            "text/plain": [
              "15580.548137008445"
            ]
          },
          "metadata": {},
          "execution_count": 18
        }
      ]
    },
    {
      "cell_type": "code",
      "source": [
        "#prediction\n",
        "pred_result= regressor.evaluate(test_data)"
      ],
      "metadata": {
        "id": "Kcy6IWxhi0Bs"
      },
      "execution_count": null,
      "outputs": []
    },
    {
      "cell_type": "code",
      "source": [
        "pred_result.predictions.show()"
      ],
      "metadata": {
        "colab": {
          "base_uri": "https://localhost:8080/"
        },
        "id": "8qauAolji6q2",
        "outputId": "5691dcc0-4f58-4e09-ddc4-c1757de1eea1"
      },
      "execution_count": null,
      "outputs": [
        {
          "output_type": "stream",
          "name": "stdout",
          "text": [
            "+--------------------+------+------------------+\n",
            "|Independent Features|salary|        prediction|\n",
            "+--------------------+------+------------------+\n",
            "|          [42.0,2.0]| 18000|17448.725594420048|\n",
            "+--------------------+------+------------------+\n",
            "\n"
          ]
        }
      ]
    },
    {
      "cell_type": "code",
      "source": [
        "pred_result.meanAbsoluteError, pred_result.meanSquaredError"
      ],
      "metadata": {
        "colab": {
          "base_uri": "https://localhost:8080/"
        },
        "id": "ikG2vX9Fi-lr",
        "outputId": "ebcd2dcc-d620-45bb-915e-e26f3435a6c2"
      },
      "execution_count": null,
      "outputs": [
        {
          "output_type": "execute_result",
          "data": {
            "text/plain": [
              "(551.2744055799521, 303903.47024752956)"
            ]
          },
          "metadata": {},
          "execution_count": 23
        }
      ]
    },
    {
      "cell_type": "code",
      "source": [],
      "metadata": {
        "id": "BcM2etaFkK3Z"
      },
      "execution_count": null,
      "outputs": []
    }
  ]
}